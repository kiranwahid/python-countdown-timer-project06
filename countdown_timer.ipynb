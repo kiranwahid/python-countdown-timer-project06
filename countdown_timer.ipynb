{
  "nbformat": 4,
  "nbformat_minor": 0,
  "metadata": {
    "colab": {
      "provenance": [],
      "authorship_tag": "ABX9TyNu/FK9KDVxjg+XTKC1bxTc",
      "include_colab_link": true
    },
    "kernelspec": {
      "name": "python3",
      "display_name": "Python 3"
    },
    "language_info": {
      "name": "python"
    }
  },
  "cells": [
    {
      "cell_type": "markdown",
      "metadata": {
        "id": "view-in-github",
        "colab_type": "text"
      },
      "source": [
        "<a href=\"https://colab.research.google.com/github/kiranwahid/python-countdown-timer-project06/blob/main/countdown_timer.ipynb\" target=\"_parent\"><img src=\"https://colab.research.google.com/assets/colab-badge.svg\" alt=\"Open In Colab\"/></a>"
      ]
    },
    {
      "cell_type": "code",
      "execution_count": 1,
      "metadata": {
        "colab": {
          "base_uri": "https://localhost:8080/"
        },
        "id": "gD9nJUmgimHM",
        "outputId": "1c5a5f68-4d8d-4110-b632-d9ffae0dff89"
      },
      "outputs": [
        {
          "output_type": "stream",
          "name": "stdout",
          "text": [
            "⏳ Enter the countdown time in seconds: 10\n",
            "⏳ 00:10 remaining\n",
            "⏳ 00:09 remaining\n",
            "⏳ 00:08 remaining\n",
            "⏳ 00:07 remaining\n",
            "⏳ 00:06 remaining\n",
            "⏳ 00:05 remaining\n",
            "⏳ 00:04 remaining\n",
            "⏳ 00:03 remaining\n",
            "⏳ 00:02 remaining\n",
            "⏳ 00:01 remaining\n",
            "\n",
            " ⏱ Time is over!\n"
          ]
        }
      ],
      "source": [
        "import time\n",
        "\n",
        "# 🎉 Ask the user for countdown time in seconds\n",
        "countdown_time = int(input(\"⏳ Enter the countdown time in seconds: \"))\n",
        "\n",
        "# 🕰 Start the countdown\n",
        "while countdown_time > 0:\n",
        "    minutes, seconds = divmod(countdown_time, 60)\n",
        "    time_format = '{:02d}:{:02d}'.format(minutes, seconds)\n",
        "\n",
        "    # Display the current countdown time ⏱\n",
        "    print(f\"⏳ {time_format} remaining\")\n",
        "\n",
        "    # Decrease the countdown time by 1 second\n",
        "    countdown_time -= 1\n",
        "\n",
        "    # Pause for 1 second to simulate countdown ⌛\n",
        "    time.sleep(1)\n",
        "\n",
        "# 🎊 Time's up!\n",
        "print('\\n ⏱ Time is over!')\n"
      ]
    }
  ]
}